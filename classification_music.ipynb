{
 "cells": [
  {
   "cell_type": "code",
   "execution_count": 1,
   "metadata": {},
   "outputs": [],
   "source": [
    "import pandas as pd # Pour le dataframe\n",
    "import numpy as np # Pour la normalisation et calculs de moyenne\n",
    "import matplotlib.pyplot as plt # Pour la visualisation\n",
    "\n",
    "from PIL import Image\n",
    "\n",
    "import librosa # Pour l'extraction des features et la lecture des fichiers wav\n",
    "import librosa.display # Pour récupérer les spectrogrammes des audio\n",
    "import librosa.feature\n",
    "\n",
    "import os # C'est ce qui va nous permettre d'itérer sur les fichiers de l'environnement de travail\n",
    "\n",
    "from sklearn.feature_selection import VarianceThreshold\n",
    "from sklearn.model_selection import train_test_split, GridSearchCV, validation_curve, RandomizedSearchCV # Split de dataset et optimisation des hyperparamètres\n",
    "from sklearn.ensemble import RandomForestClassifier # Random forest\n",
    "from sklearn.ensemble import GradientBoostingClassifier # XGBoost\n",
    "from sklearn.neighbors import KNeighborsClassifier # k-NN\n",
    "from sklearn.svm import SVC # SVM\n",
    "from sklearn.metrics import accuracy_score, confusion_matrix, recall_score, f1_score, zero_one_loss, classification_report # Métriques pour la mesure de performances\n",
    "from sklearn.preprocessing import normalize, StandardScaler\n",
    "\n",
    "import tensorflow as tf # Pour le reseau de neurones simple et pour le CNN\n",
    "\n",
    "import seaborn as sns\n",
    "\n",
    "from keras.models import Sequential\n",
    "from keras.layers import Dense\n",
    "from scikeras.wrappers import KerasClassifier\n",
    "from keras.optimizers import Adam\n",
    "from keras.utils import to_categorical\n",
    "\n",
    "from xgboost import XGBClassifier\n",
    "from pprint import pprint"
   ]
  },
  {
   "cell_type": "code",
   "execution_count": 2,
   "metadata": {},
   "outputs": [],
   "source": [
    "#Voici la liste des genres musicaux représentés dans la notre base de données, on en compte 10.\n",
    "genres = ['blues', 'classical', 'country', 'disco', 'hiphop', \n",
    "          'jazz', 'metal', 'pop', 'reggae', 'rock']"
   ]
  },
  {
   "cell_type": "markdown",
   "metadata": {},
   "source": [
    "#On commence par initialiser le dictionnaire avec les clés qui sont les noms des genres.\n",
    "#On met autant de listes vides qu'il n'y a de genres."
   ]
  },
  {
   "cell_type": "code",
   "execution_count": 3,
   "metadata": {},
   "outputs": [],
   "source": [
    "# Créer un dictionnaire vide pour stocker les données audio pour chaque genre\n",
    "audio_files = {}\n",
    "\n",
    "# Itérer sur la liste des genres\n",
    "for g in genres:\n",
    "    # Créer une liste vide pour stocker les données audio pour le genre actuel\n",
    "    audio_files[g] = []\n"
   ]
  },
  {
   "cell_type": "code",
   "execution_count": 4,
   "metadata": {},
   "outputs": [],
   "source": [
    "\n",
    "# Itérer sur les fichiers audio dans le répertoire pour le genre actuel\n",
    "for audio in os.listdir(f'./Data/genres_original/{g}'):\n",
    "    # Charger les données audio en utilisant librosa et les ajouter à la liste pour le genre actuel\n",
    "    audio_data = librosa.load(f'./Data/genres_original/{g}/{audio}')[0]\n",
    "    audio_files[g].append(audio_data)"
   ]
  },
  {
   "cell_type": "markdown",
   "metadata": {},
   "source": [
    "Maintenant que nous avons présentés toutes les features que l'on a considéré, construisons un pipeline pour créer une base d'apprentissage.\\\n",
    "Toutes ces features sont facilement calculables avec la librairie Python Librosa.\\\n",
    "_Ce pipeline nous servira aussi pour essayer nos modèles sur des fichiers musicaux externes (YouTube par exemple)._"
   ]
  },
  {
   "cell_type": "code",
   "execution_count": 5,
   "metadata": {},
   "outputs": [],
   "source": [
    "def audio_pipeline(audio):\n",
    "  \n",
    "  features = []\n",
    "\n",
    "  # Calcul du ZCR\n",
    "\n",
    "  zcr = librosa.zero_crossings(audio)\n",
    "  features.append(sum(zcr))\n",
    "\n",
    "  # Calcul de la moyenne du Spectral centroid\n",
    "\n",
    "  spectral_centroids = librosa.feature.spectral_centroid(y=audio)\n",
    "  features.append(np.mean(spectral_centroids))\n",
    "  \n",
    "  # Calcul du spectral rolloff point\n",
    "\n",
    "  rolloff = librosa.feature.spectral_rolloff(y=audio)\n",
    "  features.append(np.mean(rolloff))\n",
    "\n",
    "  # Calcul des moyennes des MFCC\n",
    "\n",
    "  mfcc = librosa.feature.mfcc(y=audio)\n",
    "\n",
    "  for x in mfcc:\n",
    "    features.append(np.mean(x))\n",
    "\n",
    "  return features"
   ]
  },
  {
   "cell_type": "markdown",
   "metadata": {},
   "source": [
    "On écrit les noms des features dans les colonnes d'un dataframe :"
   ]
  },
  {
   "cell_type": "code",
   "execution_count": 6,
   "metadata": {},
   "outputs": [],
   "source": [
    "column_names = ['zcr', 'spectral_c', 'rolloff', 'mfcc1', 'mfcc2', 'mfcc3',\n",
    "                'mfcc4', 'mfcc5', 'mfcc6', 'mfcc7', 'mfcc8', 'mfcc9',\n",
    "                'mfcc10', 'mfcc11', 'mfcc12', 'mfcc13', 'mfcc14', 'mfcc15',\n",
    "                'mfcc16', 'mfcc17', 'mfcc18', 'mfcc19', 'mfcc20', 'label']"
   ]
  },
  {
   "cell_type": "code",
   "execution_count": 7,
   "metadata": {},
   "outputs": [],
   "source": [
    "df = pd.DataFrame(columns = column_names)"
   ]
  },
  {
   "cell_type": "code",
   "execution_count": 8,
   "metadata": {},
   "outputs": [],
   "source": [
    "i = 0\n",
    "for g in genres:\n",
    "  for music in audio_files[g]:\n",
    "    df.loc[i] = audio_pipeline(music)+[g]\n",
    "    i+=1"
   ]
  },
  {
   "cell_type": "code",
   "execution_count": 9,
   "metadata": {},
   "outputs": [],
   "source": [
    "df.to_csv('./Data/music.csv', index = False)"
   ]
  },
  {
   "cell_type": "code",
   "execution_count": null,
   "metadata": {},
   "outputs": [],
   "source": []
  },
  {
   "cell_type": "markdown",
   "metadata": {},
   "source": [
    "### Pandas"
   ]
  },
  {
   "cell_type": "code",
   "execution_count": 10,
   "metadata": {},
   "outputs": [],
   "source": [
    "df = pd.read_csv(\"./Data/music.csv\")"
   ]
  },
  {
   "cell_type": "code",
   "execution_count": 11,
   "metadata": {},
   "outputs": [
    {
     "data": {
      "text/html": [
       "<div>\n",
       "<style scoped>\n",
       "    .dataframe tbody tr th:only-of-type {\n",
       "        vertical-align: middle;\n",
       "    }\n",
       "\n",
       "    .dataframe tbody tr th {\n",
       "        vertical-align: top;\n",
       "    }\n",
       "\n",
       "    .dataframe thead th {\n",
       "        text-align: right;\n",
       "    }\n",
       "</style>\n",
       "<table border=\"1\" class=\"dataframe\">\n",
       "  <thead>\n",
       "    <tr style=\"text-align: right;\">\n",
       "      <th></th>\n",
       "      <th>zcr</th>\n",
       "      <th>spectral_c</th>\n",
       "      <th>rolloff</th>\n",
       "      <th>mfcc1</th>\n",
       "      <th>mfcc2</th>\n",
       "      <th>mfcc3</th>\n",
       "      <th>mfcc4</th>\n",
       "      <th>mfcc5</th>\n",
       "      <th>mfcc6</th>\n",
       "      <th>mfcc7</th>\n",
       "      <th>...</th>\n",
       "      <th>mfcc12</th>\n",
       "      <th>mfcc13</th>\n",
       "      <th>mfcc14</th>\n",
       "      <th>mfcc15</th>\n",
       "      <th>mfcc16</th>\n",
       "      <th>mfcc17</th>\n",
       "      <th>mfcc18</th>\n",
       "      <th>mfcc19</th>\n",
       "      <th>mfcc20</th>\n",
       "      <th>label</th>\n",
       "    </tr>\n",
       "  </thead>\n",
       "  <tbody>\n",
       "    <tr>\n",
       "      <th>0</th>\n",
       "      <td>59810</td>\n",
       "      <td>1996.329188</td>\n",
       "      <td>4227.868737</td>\n",
       "      <td>-116.626270</td>\n",
       "      <td>109.25263</td>\n",
       "      <td>-23.163752</td>\n",
       "      <td>40.679480</td>\n",
       "      <td>-11.888837</td>\n",
       "      <td>23.152943</td>\n",
       "      <td>-15.409277</td>\n",
       "      <td>...</td>\n",
       "      <td>8.497991</td>\n",
       "      <td>-11.577597</td>\n",
       "      <td>2.197698</td>\n",
       "      <td>-6.180506</td>\n",
       "      <td>1.989980</td>\n",
       "      <td>-7.955889</td>\n",
       "      <td>2.083384</td>\n",
       "      <td>-2.392914</td>\n",
       "      <td>-1.541793</td>\n",
       "      <td>rock</td>\n",
       "    </tr>\n",
       "    <tr>\n",
       "      <th>1</th>\n",
       "      <td>36427</td>\n",
       "      <td>1529.290808</td>\n",
       "      <td>3271.448122</td>\n",
       "      <td>-111.252850</td>\n",
       "      <td>134.15211</td>\n",
       "      <td>-24.658049</td>\n",
       "      <td>41.542343</td>\n",
       "      <td>-3.075080</td>\n",
       "      <td>28.475187</td>\n",
       "      <td>-10.599550</td>\n",
       "      <td>...</td>\n",
       "      <td>9.940146</td>\n",
       "      <td>-4.680241</td>\n",
       "      <td>3.621828</td>\n",
       "      <td>-5.555472</td>\n",
       "      <td>3.361646</td>\n",
       "      <td>-4.956296</td>\n",
       "      <td>-1.477911</td>\n",
       "      <td>0.089316</td>\n",
       "      <td>-5.348198</td>\n",
       "      <td>rock</td>\n",
       "    </tr>\n",
       "    <tr>\n",
       "      <th>2</th>\n",
       "      <td>50935</td>\n",
       "      <td>1875.180216</td>\n",
       "      <td>3929.493150</td>\n",
       "      <td>-120.445526</td>\n",
       "      <td>117.58980</td>\n",
       "      <td>-27.635338</td>\n",
       "      <td>42.838066</td>\n",
       "      <td>-6.757944</td>\n",
       "      <td>21.642138</td>\n",
       "      <td>-12.103040</td>\n",
       "      <td>...</td>\n",
       "      <td>13.523022</td>\n",
       "      <td>-2.420074</td>\n",
       "      <td>6.712717</td>\n",
       "      <td>-3.155412</td>\n",
       "      <td>5.470172</td>\n",
       "      <td>-2.235662</td>\n",
       "      <td>1.061179</td>\n",
       "      <td>-1.654424</td>\n",
       "      <td>-0.035615</td>\n",
       "      <td>rock</td>\n",
       "    </tr>\n",
       "    <tr>\n",
       "      <th>3</th>\n",
       "      <td>28563</td>\n",
       "      <td>1421.355041</td>\n",
       "      <td>3042.701555</td>\n",
       "      <td>-156.545530</td>\n",
       "      <td>130.72420</td>\n",
       "      <td>-1.480792</td>\n",
       "      <td>36.234592</td>\n",
       "      <td>0.350913</td>\n",
       "      <td>31.955034</td>\n",
       "      <td>-0.621873</td>\n",
       "      <td>...</td>\n",
       "      <td>11.537828</td>\n",
       "      <td>-3.214253</td>\n",
       "      <td>5.058525</td>\n",
       "      <td>-1.785062</td>\n",
       "      <td>3.542804</td>\n",
       "      <td>-2.444864</td>\n",
       "      <td>-0.733025</td>\n",
       "      <td>-1.424127</td>\n",
       "      <td>0.644289</td>\n",
       "      <td>rock</td>\n",
       "    </tr>\n",
       "    <tr>\n",
       "      <th>4</th>\n",
       "      <td>27231</td>\n",
       "      <td>1345.841383</td>\n",
       "      <td>2939.157324</td>\n",
       "      <td>-127.970420</td>\n",
       "      <td>134.44084</td>\n",
       "      <td>1.020510</td>\n",
       "      <td>54.439240</td>\n",
       "      <td>-0.454471</td>\n",
       "      <td>35.814580</td>\n",
       "      <td>-10.856743</td>\n",
       "      <td>...</td>\n",
       "      <td>11.041861</td>\n",
       "      <td>-8.380609</td>\n",
       "      <td>2.107747</td>\n",
       "      <td>-6.346208</td>\n",
       "      <td>0.991749</td>\n",
       "      <td>-5.323317</td>\n",
       "      <td>-0.843005</td>\n",
       "      <td>-4.661474</td>\n",
       "      <td>-4.788684</td>\n",
       "      <td>rock</td>\n",
       "    </tr>\n",
       "  </tbody>\n",
       "</table>\n",
       "<p>5 rows × 24 columns</p>\n",
       "</div>"
      ],
      "text/plain": [
       "     zcr   spectral_c      rolloff       mfcc1      mfcc2      mfcc3  \\\n",
       "0  59810  1996.329188  4227.868737 -116.626270  109.25263 -23.163752   \n",
       "1  36427  1529.290808  3271.448122 -111.252850  134.15211 -24.658049   \n",
       "2  50935  1875.180216  3929.493150 -120.445526  117.58980 -27.635338   \n",
       "3  28563  1421.355041  3042.701555 -156.545530  130.72420  -1.480792   \n",
       "4  27231  1345.841383  2939.157324 -127.970420  134.44084   1.020510   \n",
       "\n",
       "       mfcc4      mfcc5      mfcc6      mfcc7  ...     mfcc12     mfcc13  \\\n",
       "0  40.679480 -11.888837  23.152943 -15.409277  ...   8.497991 -11.577597   \n",
       "1  41.542343  -3.075080  28.475187 -10.599550  ...   9.940146  -4.680241   \n",
       "2  42.838066  -6.757944  21.642138 -12.103040  ...  13.523022  -2.420074   \n",
       "3  36.234592   0.350913  31.955034  -0.621873  ...  11.537828  -3.214253   \n",
       "4  54.439240  -0.454471  35.814580 -10.856743  ...  11.041861  -8.380609   \n",
       "\n",
       "     mfcc14    mfcc15    mfcc16    mfcc17    mfcc18    mfcc19    mfcc20  label  \n",
       "0  2.197698 -6.180506  1.989980 -7.955889  2.083384 -2.392914 -1.541793   rock  \n",
       "1  3.621828 -5.555472  3.361646 -4.956296 -1.477911  0.089316 -5.348198   rock  \n",
       "2  6.712717 -3.155412  5.470172 -2.235662  1.061179 -1.654424 -0.035615   rock  \n",
       "3  5.058525 -1.785062  3.542804 -2.444864 -0.733025 -1.424127  0.644289   rock  \n",
       "4  2.107747 -6.346208  0.991749 -5.323317 -0.843005 -4.661474 -4.788684   rock  \n",
       "\n",
       "[5 rows x 24 columns]"
      ]
     },
     "execution_count": 11,
     "metadata": {},
     "output_type": "execute_result"
    }
   ],
   "source": [
    "df.head()"
   ]
  },
  {
   "cell_type": "code",
   "execution_count": 12,
   "metadata": {},
   "outputs": [],
   "source": [
    "selector = VarianceThreshold(threshold=(0.2))\n",
    "\n",
    "selected_features = selector.fit_transform(df[['zcr', 'spectral_c', 'rolloff', \n",
    "                                                    'mfcc1', 'mfcc2', 'mfcc3',\n",
    "                                                    'mfcc4','mfcc5', 'mfcc6', \n",
    "                                                    'mfcc7', 'mfcc8', 'mfcc9',\n",
    "                                                    'mfcc10','mfcc11', 'mfcc12',\n",
    "                                                    'mfcc13', 'mfcc14', 'mfcc15',\n",
    "                                                    'mfcc16', 'mfcc17', 'mfcc18', \n",
    "                                                    'mfcc19', 'mfcc20']])\n",
    "\n",
    "df_sel_features = pd.DataFrame(selected_features)"
   ]
  },
  {
   "cell_type": "code",
   "execution_count": 13,
   "metadata": {},
   "outputs": [
    {
     "data": {
      "text/plain": [
       "Text(0.5, -0.15, 'Matrice de corrélation')"
      ]
     },
     "execution_count": 13,
     "metadata": {},
     "output_type": "execute_result"
    },
    {
     "data": {
      "image/png": "[encoded data removed]",
      "text/plain": [
       "<Figure size 1200x1200 with 2 Axes>"
      ]
     },
     "metadata": {},
     "output_type": "display_data"
    }
   ],
   "source": [
    "f = plt.figure(figsize=(12, 12))\n",
    "\n",
    "plt.matshow(df_sel_features.corr(), fignum=f.number)\n",
    "plt.xticks(range(df.shape[1]), df.columns, fontsize=14, rotation=45)\n",
    "plt.yticks(range(df.shape[1]), df.columns, fontsize=14)\n",
    "\n",
    "cb = plt.colorbar()\n",
    "cb.ax.tick_params(labelsize=14)\n",
    "plt.title('Matrice de corrélation', fontsize=16, y=-0.15)"
   ]
  },
  {
   "cell_type": "code",
   "execution_count": 14,
   "metadata": {},
   "outputs": [],
   "source": [
    "# y = df['label']\n",
    "# values = np.unique(y,return_counts=True)[1]\n",
    "\n",
    "# labels = genres\n",
    "# sizes = values\n",
    "\n",
    "# # Choix des couleurs\n",
    "\n",
    "# colors =['#fff100','#ff8c00','#e81123','#ec008c','#0044bf','#0584f2','#0aaff1','#edf259','#a79674']\n",
    " \n",
    "# # Construction du diagramme et affichage des labels et des #fréquences en pourcentage\n",
    "\n",
    "# fig1, ax1 = plt.subplots()\n",
    "# ax1.pie(sizes, colors = colors, labels=labels, autopct='%1.1f%%', startangle=90)\n",
    "\n",
    "# # Tracé du cercle au milieu\n",
    "\n",
    "# centre_circle = plt.Circle((0,0),0.70,fc='white')\n",
    "# fig = plt.gcf()\n",
    "# fig.gca().add_artist(centre_circle)\n",
    "\n",
    "# # Affichage du diagramme\n",
    "\n",
    "# ax1.axis('equal')  \n",
    "# plt.tight_layout()\n",
    "# plt.show()"
   ]
  },
  {
   "cell_type": "markdown",
   "metadata": {},
   "source": [
    "### Création des images"
   ]
  },
  {
   "cell_type": "code",
   "execution_count": 15,
   "metadata": {},
   "outputs": [],
   "source": [
    "genres = ['blues', 'classical', 'country', 'disco', 'hiphop', \n",
    "          'jazz', 'metal', 'pop', 'reggae', 'rock']\n",
    "\n",
    "audio_files = {}\n",
    "\n",
    "for g in genres:\n",
    "  audio_files[g] = []"
   ]
  },
  {
   "cell_type": "code",
   "execution_count": 16,
   "metadata": {},
   "outputs": [],
   "source": [
    "for g in genres:\n",
    "  for audio in os.listdir(f'./Data/genres_original/{g}'):\n",
    "    audio_files[g].append(librosa.core.load(f'./Data/genres_original/{g}/{audio}'))"
   ]
  },
  {
   "cell_type": "code",
   "execution_count": 17,
   "metadata": {},
   "outputs": [],
   "source": [
    "mel_specs = []\n",
    "\n",
    "for g in genres:\n",
    "\n",
    "  for audio in audio_files[g]:\n",
    "  \n",
    "    y = audio[0]\n",
    "    sr = audio[1]\n",
    "\n",
    "    spect = librosa.feature.melspectrogram(y=y, sr=sr, n_fft=2048, hop_length=1024)\n",
    "    spect = librosa.power_to_db(spect, ref=np.max)\n",
    "        \n",
    "# On modifie la taille des images 128 x 660 en gardant les paramètres proposés dans l'article initial\n",
    "    if spect.shape[1] != 660:\n",
    "      spect.resize(128,660, refcheck=False)\n",
    "\n",
    "    mel_specs.append(spect)\n",
    "        \n",
    "X = np.array(mel_specs)"
   ]
  },
  {
   "cell_type": "code",
   "execution_count": 18,
   "metadata": {},
   "outputs": [],
   "source": [
    "y_cnn = []\n",
    "\n",
    "for i in range(len(genres)):\n",
    "  y_cnn += 100*[i] # On a 100 images pour chaque genre\n",
    "  # print(i)\n",
    "\n",
    "y_cnn = np.array(y_cnn)"
   ]
  },
  {
   "cell_type": "code",
   "execution_count": 19,
   "metadata": {},
   "outputs": [],
   "source": [
    "y_cnn = to_categorical(y_cnn)\n",
    "\n",
    "x_cnn_train, x_cnn_test, y_cnn_train, y_cnn_test = train_test_split(X, y_cnn)"
   ]
  },
  {
   "cell_type": "code",
   "execution_count": 23,
   "metadata": {},
   "outputs": [],
   "source": [
    "x_cnn_train /= np.min(x_cnn_train)\n",
    "x_cnn_test /= np.min(x_cnn_train)"
   ]
  },
  {
   "cell_type": "code",
   "execution_count": 24,
   "metadata": {},
   "outputs": [],
   "source": [
    "x_cnn_train = x_cnn_train.reshape(x_cnn_train.shape[0], 128, 660, 1)\n",
    "x_cnn_test = x_cnn_test.reshape(x_cnn_test.shape[0], 128, 660, 1)"
   ]
  },
  {
   "cell_type": "markdown",
   "metadata": {},
   "source": [
    "### Conception de l’architecture du réseau et entraînement"
   ]
  },
  {
   "cell_type": "code",
   "execution_count": 27,
   "metadata": {},
   "outputs": [],
   "source": [
    "model = tf.keras.models.Sequential()\n",
    "\n",
    "model.add(tf.keras.layers.Conv2D(32, kernel_size=(3, 3),\n",
    "                 activation='relu',\n",
    "                 input_shape=(128,660,1)))\n",
    "\n",
    "model.add(tf.keras.layers.MaxPooling2D(pool_size=(2, 2)))\n",
    "\n",
    "model.add(tf.keras.layers.Conv2D(64, \n",
    "                 kernel_size=(3, 3), \n",
    "                 activation='relu'))\n",
    "\n",
    "model.add(tf.keras.layers.MaxPooling2D(pool_size=(2, 2)))\n",
    "\n",
    "model.add(tf.keras.layers.Dropout(0.3))\n",
    "\n",
    "model.add(tf.keras.layers.Conv2D(32, \n",
    "                 kernel_size=(3, 3), \n",
    "                 activation='relu'))\n",
    "\n",
    "model.add(tf.keras.layers.MaxPooling2D(pool_size=(2, 2)))\n",
    "\n",
    "model.add(tf.keras.layers.Flatten())\n",
    "model.add(tf.keras.layers.Dropout(0.3))\n",
    "model.add(tf.keras.layers.Dense(64, activation='relu'))\n",
    "model.add(tf.keras.layers.Dense(32, activation='relu'))\n",
    "\n",
    "model.add(tf.keras.layers.Dense(10, activation='softmax'))"
   ]
  },
  {
   "cell_type": "code",
   "execution_count": 28,
   "metadata": {},
   "outputs": [
    {
     "name": "stdout",
     "output_type": "stream",
     "text": [
      "Model: \"sequential\"\n",
      "_________________________________________________________________\n",
      " Layer (type)                Output Shape              Param #   \n",
      "=================================================================\n",
      " conv2d (Conv2D)             (None, 126, 658, 32)      320       \n",
      "                                                                 \n",
      " max_pooling2d (MaxPooling2  (None, 63, 329, 32)       0         \n",
      " D)                                                              \n",
      "                                                                 \n",
      " conv2d_1 (Conv2D)           (None, 61, 327, 64)       18496     \n",
      "                                                                 \n",
      " max_pooling2d_1 (MaxPoolin  (None, 30, 163, 64)       0         \n",
      " g2D)                                                            \n",
      "                                                                 \n",
      " dropout (Dropout)           (None, 30, 163, 64)       0         \n",
      "                                                                 \n",
      " conv2d_2 (Conv2D)           (None, 28, 161, 32)       18464     \n",
      "                                                                 \n",
      " max_pooling2d_2 (MaxPoolin  (None, 14, 80, 32)        0         \n",
      " g2D)                                                            \n",
      "                                                                 \n",
      " flatten (Flatten)           (None, 35840)             0         \n",
      "                                                                 \n",
      " dropout_1 (Dropout)         (None, 35840)             0         \n",
      "                                                                 \n",
      " dense (Dense)               (None, 64)                2293824   \n",
      "                                                                 \n",
      " dense_1 (Dense)             (None, 32)                2080      \n",
      "                                                                 \n",
      " dense_2 (Dense)             (None, 10)                330       \n",
      "                                                                 \n",
      "=================================================================\n",
      "Total params: 2333514 (8.90 MB)\n",
      "Trainable params: 2333514 (8.90 MB)\n",
      "Non-trainable params: 0 (0.00 Byte)\n",
      "_________________________________________________________________\n"
     ]
    }
   ],
   "source": [
    "model.summary()"
   ]
  },
  {
   "cell_type": "code",
   "execution_count": 29,
   "metadata": {},
   "outputs": [],
   "source": [
    "model.compile(\n",
    "    loss=\"categorical_crossentropy\",\n",
    "    optimizer=\"adam\",\n",
    "    metrics=[\"accuracy\"]\n",
    ")"
   ]
  },
  {
   "cell_type": "code",
   "execution_count": 32,
   "metadata": {},
   "outputs": [],
   "source": [
    "# history = model.fit(x_cnn_train,\n",
    "#                     y_cnn_train,\n",
    "#                     epochs=25,\n",
    "#                     validation_data = (x_cnn_test,y_cnn_test))"
   ]
  },
  {
   "cell_type": "code",
   "execution_count": 33,
   "metadata": {},
   "outputs": [],
   "source": [
    "# loss_curve = history.history[\"loss\"]\n",
    "# acc_curve = history.history[\"accuracy\"]\n",
    "\n",
    "# loss_val_curve = history.history[\"val_loss\"]\n",
    "# acc_val_curve = history.history[\"val_accuracy\"]\n",
    "\n",
    "# plt.plot(loss_curve, label=\"Train\")\n",
    "# plt.plot(loss_val_curve, label=\"Val\")\n",
    "# plt.legend(loc='upper left')\n",
    "# plt.title(\"Loss\")\n",
    "# plt.show()\n",
    "\n",
    "# plt.plot(acc_curve, label=\"Train\")\n",
    "# plt.plot(acc_val_curve, label=\"Val\")\n",
    "# plt.legend(loc='upper left')\n",
    "# plt.title(\"Accuracy\")\n",
    "# plt.show()"
   ]
  },
  {
   "cell_type": "code",
   "execution_count": 31,
   "metadata": {},
   "outputs": [],
   "source": [
    "# model.save('./model/')"
   ]
  },
  {
   "cell_type": "code",
   "execution_count": null,
   "metadata": {},
   "outputs": [],
   "source": []
  }
 ],
 "metadata": {
  "kernelspec": {
   "display_name": ".env",
   "language": "python",
   "name": "python3"
  },
  "language_info": {
   "codemirror_mode": {
    "name": "ipython",
    "version": 3
   },
   "file_extension": ".py",
   "mimetype": "text/x-python",
   "name": "python",
   "nbconvert_exporter": "python",
   "pygments_lexer": "ipython3",
   "version": "3.10.7"
  },
  "orig_nbformat": 4
 },
 "nbformat": 4,
 "nbformat_minor": 2
}
