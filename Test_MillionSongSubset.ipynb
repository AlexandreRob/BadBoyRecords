{
 "cells": [
  {
   "cell_type": "markdown",
   "metadata": {},
   "source": [
    "## Sommaire\n",
    "- [Importations](#importations)\n",
    "- [Extraction de la data](#lecture-et-extraction-de-la-data-du-fichier-msd_summary_fileh5)"
   ]
  },
  {
   "cell_type": "markdown",
   "metadata": {},
   "source": [
    "### Lexique :\n",
    "1. **analysis_sample_rate :** Le taux d'échantillonnage utilisé pour l'analyse du morceau audio.\n",
    "2. **duration :** La durée du morceau en unités de temps (secondes, millisecondes, etc.).\n",
    "3. **track_id :** Un identifiant unique pour le morceau.\n",
    "4. **danceability :** Une mesure de la danseabilité du morceau, qui indique à quel point il est adapté à la danse.\n",
    "5. **loudness :** L'intensité sonore globale du morceau en décibels (dB).\n",
    "6. **tempo :** Le tempo du morceau, exprimé en battements par minute (BPM).\n",
    "7. **start_of_fade_out :** Le point de départ du fondu de sortie du morceau.\n",
    "8. **end_of_fade_in :** Le point de fin du fondu d'entrée du morceau.\n",
    "9. **song_id :** Un identifiant unique pour la chanson.\n",
    "10. **key :** La tonalité principale de la chanson (par exemple, C, D, E, etc.).\n",
    "11. **key_confidence :** La confiance dans la détermination de la tonalité.\n",
    "12. **time_signature :** La signature rythmique de la chanson (par exemple, 4/4, 3/4, etc.).\n",
    "13. **genres :** Les genres musicaux associés à la chanson. C'est le champ que vous cherchez à prédire avec votre modèle."
   ]
  },
  {
   "cell_type": "markdown",
   "metadata": {},
   "source": [
    "___"
   ]
  },
  {
   "cell_type": "markdown",
   "metadata": {},
   "source": [
    "##### Importations :"
   ]
  },
  {
   "cell_type": "code",
   "execution_count": null,
   "metadata": {},
   "outputs": [],
   "source": [
    "import os, h5py\n",
    "import pandas as pd"
   ]
  },
  {
   "cell_type": "markdown",
   "metadata": {},
   "source": [
    "##### Lecture et extraction de la data du fichier msd_summary_file.h5"
   ]
  },
  {
   "cell_type": "code",
   "execution_count": null,
   "metadata": {},
   "outputs": [],
   "source": [
    "directory_path = './Data/'\n",
    "data_list = []\n",
    "\n",
    "for root, dirnames, filenames in os.walk(directory_path):\n",
    "    for filename in filenames:\n",
    "        if filename.endswith('.h5'):\n",
    "            hdf_file_path = os.path.join(root, filename)\n",
    "            hdf = h5py.File(hdf_file_path, 'r')\n",
    "\n",
    "            analysis_data = hdf['/analysis/songs/'][:]\n",
    "            metadata_data = hdf['/metadata/songs/'][:]\n",
    "            musicbrainz_data = hdf['/musicbrainz/songs/'][:]\n",
    "\n",
    "            combined_data = pd.concat([pd.DataFrame(analysis_data), pd.DataFrame(metadata_data), pd.DataFrame(musicbrainz_data)], axis=1)\n",
    "            \n",
    "            data_list.append(combined_data)\n",
    "            \n",
    "            hdf.close()\n",
    "\n",
    "final_data = pd.concat(data_list, ignore_index=True)"
   ]
  },
  {
   "cell_type": "code",
   "execution_count": null,
   "metadata": {},
   "outputs": [],
   "source": [
    "final_data.head()"
   ]
  },
  {
   "cell_type": "code",
   "execution_count": null,
   "metadata": {},
   "outputs": [],
   "source": [
    "# Convertir les données en chaînes de caractères\n",
    "final_data['audio_md5'] = final_data['audio_md5'].str.decode('utf-8')\n",
    "final_data['release'] = final_data['release'].str.decode('utf-8')\n",
    "final_data['song_id'] = final_data['song_id'].str.decode('utf-8')\n",
    "final_data['title'] = final_data['title'].str.decode('utf-8')\n",
    "final_data['artist_name'] = final_data['artist_name'].str.decode('utf-8')\n",
    "final_data['artist_id'] = final_data['artist_id'].str.decode('utf-8')\n",
    "final_data['track_id'] = final_data['track_id'].str.decode('utf-8')\n",
    "final_data['genre'] = final_data['genre'].str.decode('utf-8')"
   ]
  },
  {
   "cell_type": "code",
   "execution_count": null,
   "metadata": {},
   "outputs": [],
   "source": [
    "# Supprimer les caractères \"b\" au début de chaque élément\n",
    "final_data['audio_md5'] = final_data['audio_md5'].str.replace('^b', '', regex=True)\n",
    "final_data['release'] = final_data['release'].str.replace('^b', '', regex=True)\n",
    "final_data['song_id'] = final_data['song_id'].str.replace('^b', '', regex=True)\n",
    "final_data['title'] = final_data['title'].str.replace('^b', '', regex=True)\n",
    "final_data['artist_name'] = final_data['artist_name'].str.replace('^b', '', regex=True)\n",
    "final_data['artist_id'] = final_data['artist_id'].str.replace('^b', '', regex=True)\n",
    "final_data['genre'] = final_data['genre'].str.replace('^b', '', regex=True)\n",
    "# final_data['track_id'] = final_data['track_id'].str.replace('^b', '', regex=True)"
   ]
  },
  {
   "cell_type": "markdown",
   "metadata": {},
   "source": [
    "### Filtrage des colonnes, pour ne garder que celles-qui sont intéressantes"
   ]
  },
  {
   "cell_type": "code",
   "execution_count": null,
   "metadata": {},
   "outputs": [],
   "source": [
    "# Je filtre les colonnes les plus pertinantes\n",
    "columns_to_filter= ['Column1', 'analysis_sample_rate', 'duration', 'track_id', 'genre', 'danceability', 'loudness', 'tempo','start_of_fade_out','end_of_fade_in','song_id','key','key_confidence','time_signature']"
   ]
  },
  {
   "cell_type": "code",
   "execution_count": null,
   "metadata": {},
   "outputs": [],
   "source": [
    "final_data = final_data.filter(columns_to_filter)\n",
    "final_data = final_data.drop('genre', axis=1)"
   ]
  },
  {
   "cell_type": "code",
   "execution_count": null,
   "metadata": {},
   "outputs": [],
   "source": [
    "final_data.head()"
   ]
  },
  {
   "cell_type": "code",
   "execution_count": null,
   "metadata": {},
   "outputs": [],
   "source": [
    "final_data.to_csv('./Data/final_data.csv', sep=',', encoding='utf-8', index=False)"
   ]
  },
  {
   "cell_type": "code",
   "execution_count": null,
   "metadata": {},
   "outputs": [],
   "source": [
    "genres = pd.read_csv('./Data/genre_cls_beatunes.csv', sep=',', encoding='utf-8')"
   ]
  },
  {
   "cell_type": "code",
   "execution_count": null,
   "metadata": {},
   "outputs": [],
   "source": [
    "genres.head()"
   ]
  },
  {
   "cell_type": "code",
   "execution_count": null,
   "metadata": {},
   "outputs": [],
   "source": [
    "# Permet de renommer la colonne\n",
    "genres = genres.rename(columns={'seed-genre': 'genres'})"
   ]
  },
  {
   "cell_type": "code",
   "execution_count": null,
   "metadata": {},
   "outputs": [],
   "source": [
    "final_csv = pd.merge(final_data, genres, on='track_id')"
   ]
  },
  {
   "cell_type": "code",
   "execution_count": null,
   "metadata": {},
   "outputs": [],
   "source": [
    "final_csv.to_csv('./Data/1Mdata.csv', sep=',', encoding='utf-8', index=False)"
   ]
  },
  {
   "cell_type": "code",
   "execution_count": null,
   "metadata": {},
   "outputs": [],
   "source": [
    "final_csv.head()"
   ]
  },
  {
   "cell_type": "code",
   "execution_count": null,
   "metadata": {},
   "outputs": [],
   "source": [
    "_10Kdata_with_genre = pd.read_csv('./Data/10Kdata_with_genre.csv', sep=',', encoding='utf-8')"
   ]
  },
  {
   "cell_type": "markdown",
   "metadata": {},
   "source": [
    "- [Retour au lexique](#lexique)\n",
    "- [Filtrage des colonnes](#filtrage-des-colonnes-pour-ne-garder-que-celles-qui-sont-intéressantes)"
   ]
  },
  {
   "cell_type": "code",
   "execution_count": null,
   "metadata": {},
   "outputs": [],
   "source": [
    "# Apercu rapide du dataset avec les genres\n",
    "_10Kdata_with_genre.head()"
   ]
  },
  {
   "cell_type": "code",
   "execution_count": null,
   "metadata": {},
   "outputs": [],
   "source": []
  }
 ],
 "metadata": {
  "kernelspec": {
   "display_name": "venv",
   "language": "python",
   "name": "python3"
  },
  "language_info": {
   "codemirror_mode": {
    "name": "ipython",
    "version": 3
   },
   "file_extension": ".py",
   "mimetype": "text/x-python",
   "name": "python",
   "nbconvert_exporter": "python",
   "pygments_lexer": "ipython3",
   "version": "3.9.12"
  },
  "orig_nbformat": 4
 },
 "nbformat": 4,
 "nbformat_minor": 2
}
