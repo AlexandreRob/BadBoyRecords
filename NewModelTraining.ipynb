{
 "cells": [
  {
   "cell_type": "code",
   "execution_count": 58,
   "metadata": {},
   "outputs": [],
   "source": [
    "import pandas as pd # Pour le dataframe\n",
    "from skimage.transform import resize\n",
    "import numpy as np # Pour la normalisation et calculs de moyenne\n",
    "import matplotlib.pyplot as plt # Pour la visualisation\n",
    "\n",
    "from PIL import Image\n",
    "\n",
    "import librosa # Pour l'extraction des features et la lecture des fichiers wav\n",
    "import librosa.display # Pour récupérer les spectrogrammes des audio\n",
    "import librosa.feature\n",
    "\n",
    "import os # C'est ce qui va nous permettre d'itérer sur les fichiers de l'environnement de travail\n",
    "\n",
    "from sklearn.feature_selection import VarianceThreshold\n",
    "from sklearn.model_selection import train_test_split, GridSearchCV, validation_curve, RandomizedSearchCV # Split de dataset et optimisation des hyperparamètres\n",
    "from sklearn.ensemble import RandomForestClassifier # Random forest\n",
    "from sklearn.ensemble import GradientBoostingClassifier # XGBoost\n",
    "from sklearn.neighbors import KNeighborsClassifier # k-NN\n",
    "from sklearn.svm import SVC # SVM\n",
    "from sklearn.metrics import accuracy_score, confusion_matrix, recall_score, f1_score, zero_one_loss, classification_report # Métriques pour la mesure de performances\n",
    "from sklearn.preprocessing import normalize, StandardScaler\n",
    "\n",
    "import tensorflow as tf # Pour le reseau de neurones simple et pour le CNN\n",
    "from tensorflow.keras.models import load_model\n",
    "\n",
    "import seaborn as sns\n",
    "\n",
    "import keras\n",
    "from keras.models import Sequential\n",
    "from keras.layers import Dense\n",
    "from scikeras.wrappers import KerasClassifier\n",
    "from keras.optimizers import Adam\n",
    "from keras.utils import to_categorical\n",
    "\n",
    "from xgboost import XGBClassifier\n",
    "from pprint import pprint"
   ]
  },
  {
   "cell_type": "markdown",
   "metadata": {},
   "source": [
    "### Chargement du CSV"
   ]
  },
  {
   "cell_type": "code",
   "execution_count": 59,
   "metadata": {},
   "outputs": [],
   "source": [
    "df = pd.read_csv('./Data/1Mdata.csv')"
   ]
  },
  {
   "cell_type": "code",
   "execution_count": 60,
   "metadata": {},
   "outputs": [
    {
     "data": {
      "text/html": [
       "<div>\n",
       "<style scoped>\n",
       "    .dataframe tbody tr th:only-of-type {\n",
       "        vertical-align: middle;\n",
       "    }\n",
       "\n",
       "    .dataframe tbody tr th {\n",
       "        vertical-align: top;\n",
       "    }\n",
       "\n",
       "    .dataframe thead th {\n",
       "        text-align: right;\n",
       "    }\n",
       "</style>\n",
       "<table border=\"1\" class=\"dataframe\">\n",
       "  <thead>\n",
       "    <tr style=\"text-align: right;\">\n",
       "      <th></th>\n",
       "      <th>analysis_sample_rate</th>\n",
       "      <th>duration</th>\n",
       "      <th>track_id</th>\n",
       "      <th>danceability</th>\n",
       "      <th>loudness</th>\n",
       "      <th>tempo</th>\n",
       "      <th>start_of_fade_out</th>\n",
       "      <th>end_of_fade_in</th>\n",
       "      <th>song_id</th>\n",
       "      <th>key</th>\n",
       "      <th>key_confidence</th>\n",
       "      <th>time_signature</th>\n",
       "      <th>genres</th>\n",
       "    </tr>\n",
       "  </thead>\n",
       "  <tbody>\n",
       "    <tr>\n",
       "      <th>0</th>\n",
       "      <td>22050</td>\n",
       "      <td>156.55138</td>\n",
       "      <td>TRMMMKD128F425225D</td>\n",
       "      <td>0.0</td>\n",
       "      <td>-10.555</td>\n",
       "      <td>150.778</td>\n",
       "      <td>148.660</td>\n",
       "      <td>0.258</td>\n",
       "      <td>SOVFVAK12A8C1350D9</td>\n",
       "      <td>9</td>\n",
       "      <td>0.808</td>\n",
       "      <td>1</td>\n",
       "      <td>Pop</td>\n",
       "    </tr>\n",
       "    <tr>\n",
       "      <th>1</th>\n",
       "      <td>22050</td>\n",
       "      <td>138.97098</td>\n",
       "      <td>TRMMMRX128F93187D9</td>\n",
       "      <td>0.0</td>\n",
       "      <td>-2.060</td>\n",
       "      <td>177.768</td>\n",
       "      <td>138.971</td>\n",
       "      <td>0.000</td>\n",
       "      <td>SOGTUKN12AB017F4F1</td>\n",
       "      <td>7</td>\n",
       "      <td>0.418</td>\n",
       "      <td>4</td>\n",
       "      <td>Electronica/Dance</td>\n",
       "    </tr>\n",
       "    <tr>\n",
       "      <th>2</th>\n",
       "      <td>22050</td>\n",
       "      <td>212.37506</td>\n",
       "      <td>TRMMMLR128F1494097</td>\n",
       "      <td>0.0</td>\n",
       "      <td>-4.931</td>\n",
       "      <td>101.450</td>\n",
       "      <td>206.629</td>\n",
       "      <td>0.000</td>\n",
       "      <td>SOQVRHI12A6D4FB2D7</td>\n",
       "      <td>3</td>\n",
       "      <td>0.611</td>\n",
       "      <td>1</td>\n",
       "      <td>Reggae</td>\n",
       "    </tr>\n",
       "    <tr>\n",
       "      <th>3</th>\n",
       "      <td>22050</td>\n",
       "      <td>221.20444</td>\n",
       "      <td>TRMMMBB12903CB7D21</td>\n",
       "      <td>0.0</td>\n",
       "      <td>-12.214</td>\n",
       "      <td>98.020</td>\n",
       "      <td>212.120</td>\n",
       "      <td>0.165</td>\n",
       "      <td>SOEYRFT12AB018936C</td>\n",
       "      <td>11</td>\n",
       "      <td>0.332</td>\n",
       "      <td>4</td>\n",
       "      <td>Hip-Hop</td>\n",
       "    </tr>\n",
       "    <tr>\n",
       "      <th>4</th>\n",
       "      <td>22050</td>\n",
       "      <td>104.48934</td>\n",
       "      <td>TRMMMML128F4280EE9</td>\n",
       "      <td>0.0</td>\n",
       "      <td>-20.160</td>\n",
       "      <td>124.339</td>\n",
       "      <td>104.489</td>\n",
       "      <td>0.000</td>\n",
       "      <td>SOJCFMH12A8C13B0C2</td>\n",
       "      <td>4</td>\n",
       "      <td>0.668</td>\n",
       "      <td>4</td>\n",
       "      <td>Cadence</td>\n",
       "    </tr>\n",
       "  </tbody>\n",
       "</table>\n",
       "</div>"
      ],
      "text/plain": [
       "   analysis_sample_rate   duration            track_id  danceability  \\\n",
       "0                 22050  156.55138  TRMMMKD128F425225D           0.0   \n",
       "1                 22050  138.97098  TRMMMRX128F93187D9           0.0   \n",
       "2                 22050  212.37506  TRMMMLR128F1494097           0.0   \n",
       "3                 22050  221.20444  TRMMMBB12903CB7D21           0.0   \n",
       "4                 22050  104.48934  TRMMMML128F4280EE9           0.0   \n",
       "\n",
       "   loudness    tempo  start_of_fade_out  end_of_fade_in             song_id  \\\n",
       "0   -10.555  150.778            148.660           0.258  SOVFVAK12A8C1350D9   \n",
       "1    -2.060  177.768            138.971           0.000  SOGTUKN12AB017F4F1   \n",
       "2    -4.931  101.450            206.629           0.000  SOQVRHI12A6D4FB2D7   \n",
       "3   -12.214   98.020            212.120           0.165  SOEYRFT12AB018936C   \n",
       "4   -20.160  124.339            104.489           0.000  SOJCFMH12A8C13B0C2   \n",
       "\n",
       "   key  key_confidence  time_signature             genres  \n",
       "0    9           0.808               1                Pop  \n",
       "1    7           0.418               4  Electronica/Dance  \n",
       "2    3           0.611               1             Reggae  \n",
       "3   11           0.332               4            Hip-Hop  \n",
       "4    4           0.668               4            Cadence  "
      ]
     },
     "execution_count": 60,
     "metadata": {},
     "output_type": "execute_result"
    }
   ],
   "source": [
    "df.head()"
   ]
  },
  {
   "cell_type": "markdown",
   "metadata": {},
   "source": [
    "##### Afficher le total de titres par genres :"
   ]
  },
  {
   "cell_type": "code",
   "execution_count": 61,
   "metadata": {},
   "outputs": [
    {
     "name": "stdout",
     "output_type": "stream",
     "text": [
      "genres\n",
      "Rock                  261242\n",
      "Pop                    57210\n",
      "Electronic             38235\n",
      "Jazz                   37844\n",
      "Hip-Hop                31580\n",
      "                       ...  \n",
      "house speed garage         1\n",
      "Novelas                    1\n",
      "House/fonky                1\n",
      "Cast Recording             1\n",
      "Pop/80's/New Wave          1\n",
      "Name: count, Length: 6152, dtype: int64\n"
     ]
    }
   ],
   "source": [
    "genre_titles_counts = df['genres'].value_counts()\n",
    "print(genre_titles_counts)"
   ]
  },
  {
   "cell_type": "markdown",
   "metadata": {},
   "source": [
    "##### Compter les genres uniques :"
   ]
  },
  {
   "cell_type": "code",
   "execution_count": 62,
   "metadata": {},
   "outputs": [
    {
     "name": "stdout",
     "output_type": "stream",
     "text": [
      "Number of unique genres: 6152\n"
     ]
    }
   ],
   "source": [
    "unique_genres_count = df['genres'].nunique()\n",
    "print(f\"Number of unique genres: {unique_genres_count}\")"
   ]
  },
  {
   "cell_type": "markdown",
   "metadata": {},
   "source": [
    "##### Identification des genres minoritaires :\n",
    "    Identifiez les genres qui ont un nombre très faible de titres. Vous pouvez fixer un seuil en dessous duquel les genres seront considérés comme trop minoritaires."
   ]
  },
  {
   "cell_type": "code",
   "execution_count": 63,
   "metadata": {},
   "outputs": [
    {
     "name": "stdout",
     "output_type": "stream",
     "text": [
      "Index(['Reggaeton', 'zouk', 'Tango', 'Bhangra', 'Doo Wop', 'Freestyle',\n",
      "       'Southern Gospel', 'Vallenato', 'Soca', 'Oi!',\n",
      "       ...\n",
      "       'Irish Jive', 'Hands', 'Vocal Classical', 'Funk/Punk', 'Male Vocal',\n",
      "       'house speed garage', 'Novelas', 'House/fonky', 'Cast Recording',\n",
      "       'Pop/80's/New Wave'],\n",
      "      dtype='object', name='genres', length=6113)\n"
     ]
    }
   ],
   "source": [
    "threshold = 500  # Seuil\n",
    "genre_counts = df['genres'].value_counts()\n",
    "minority_genres = genre_counts[genre_counts <= threshold].index\n",
    "print(minority_genres)"
   ]
  },
  {
   "cell_type": "markdown",
   "metadata": {},
   "source": [
    "##### Quelles sont les implications concernant ce résultat ?\n",
    "**1. Distribution très déséquilibrée :**\n",
    "Notre ensemble de données est très déséquilibré, avec quelques genres très bien représentés et une grande majorité de genres avec peu de titres.\n",
    "\n",
    "**2. Risque de surapprentissage :**\n",
    "Avec une telle distribution, il y a un risque élevé que notre modèle soit biaisé en faveur des genres bien représentés."
   ]
  },
  {
   "cell_type": "code",
   "execution_count": 64,
   "metadata": {},
   "outputs": [],
   "source": [
    "threshold = 2000  # Seuil\n",
    "genre_counts = df['genres'].value_counts()\n",
    "to_remove = genre_counts[genre_counts <= threshold].index\n",
    "df = df[~df['genres'].isin(to_remove)]"
   ]
  },
  {
   "cell_type": "code",
   "execution_count": 65,
   "metadata": {},
   "outputs": [
    {
     "name": "stdout",
     "output_type": "stream",
     "text": [
      "Number of unique genres after operation: 26\n"
     ]
    }
   ],
   "source": [
    "unique_genres_count = df['genres'].nunique()\n",
    "print(f\"Number of unique genres after operation: {unique_genres_count}\")"
   ]
  },
  {
   "cell_type": "markdown",
   "metadata": {},
   "source": [
    "##### Résultats après le tri\n",
    "**1. Réduction significative :**\n",
    "Nous avons considérablement réduit le nombre de genres, ce qui devrait faciliter l'entraînement du modèle et améliorer sa généralisation.\n",
    "\n",
    "**2. Focus sur les genres populaires :**\n",
    "Avec seulement 26 genres restants, votre modèle sera très axé sur les genres les plus populaires ou les plus couramment représentés dans votre ensemble de données.\n",
    "\n",
    "**3. Risque de perte d'information :**\n",
    "Il est important de noter que cette approche pourrait entraîner la perte d'informations sur les genres moins courants, ce qui pourrait être pertinent selon l'objectif de notre projet."
   ]
  },
  {
   "cell_type": "markdown",
   "metadata": {},
   "source": [
    "___"
   ]
  },
  {
   "cell_type": "markdown",
   "metadata": {},
   "source": [
    "##### Affichage des genres restants, ainsi que du nombre de titres par genres"
   ]
  },
  {
   "cell_type": "code",
   "execution_count": 66,
   "metadata": {},
   "outputs": [
    {
     "name": "stdout",
     "output_type": "stream",
     "text": [
      "Remaining genres after applying the threshold:\n",
      "['Pop' 'Electronica/Dance' 'Reggae' 'Hip-Hop' 'Rock' 'World'\n",
      " 'Gospel & Religious' 'Folk' 'Latin' 'Other' 'Techno' 'R&B' 'Country'\n",
      " 'Jazz' 'Hardcore' 'House' 'Classical' 'Soundtrack' 'Easy Listening'\n",
      " 'Trance' 'New Age' 'Electronic' 'Dance' 'Drum & Bass' 'Christmas'\n",
      " 'Comedy']\n"
     ]
    }
   ],
   "source": [
    "remaining_genres = df['genres'].unique()\n",
    "print(\"Remaining genres after applying the threshold:\")\n",
    "print(remaining_genres)"
   ]
  },
  {
   "cell_type": "code",
   "execution_count": 67,
   "metadata": {},
   "outputs": [
    {
     "name": "stdout",
     "output_type": "stream",
     "text": [
      "Remaining genres and their counts after applying the threshold:\n",
      "genres\n",
      "Rock                  261242\n",
      "Pop                    57210\n",
      "Electronic             38235\n",
      "Jazz                   37844\n",
      "Hip-Hop                31580\n",
      "R&B                    25712\n",
      "Country                23318\n",
      "Latin                  21610\n",
      "Reggae                 20139\n",
      "Folk                   12994\n",
      "Soundtrack             12151\n",
      "Dance                  10887\n",
      "Electronica/Dance      10713\n",
      "World                  10634\n",
      "Gospel & Religious      7937\n",
      "House                   6357\n",
      "Trance                  5643\n",
      "New Age                 4880\n",
      "Other                   4590\n",
      "Techno                  4533\n",
      "Classical               3837\n",
      "Easy Listening          3832\n",
      "Christmas               3260\n",
      "Hardcore                3171\n",
      "Comedy                  2984\n",
      "Drum & Bass             2224\n",
      "Name: count, dtype: int64\n"
     ]
    }
   ],
   "source": [
    "remaining_genre_counts = df['genres'].value_counts()\n",
    "print(\"Remaining genres and their counts after applying the threshold:\")\n",
    "print(remaining_genre_counts)"
   ]
  },
  {
   "cell_type": "markdown",
   "metadata": {},
   "source": [
    "___"
   ]
  },
  {
   "cell_type": "markdown",
   "metadata": {},
   "source": [
    "##### Equilibrage des classes :\n",
    "**Sous-échantillonnage :**\n",
    "Nous pouvons réduire le nombre d'échantillons des classes sur-représentées pour les équilibrer avec les classes moins représentées."
   ]
  },
  {
   "cell_type": "code",
   "execution_count": 68,
   "metadata": {},
   "outputs": [
    {
     "name": "stdout",
     "output_type": "stream",
     "text": [
      "New genre distribution:\n",
      "genres\n",
      "Rock                  60000\n",
      "Pop                   57210\n",
      "Electronic            38235\n",
      "Jazz                  37844\n",
      "Hip-Hop               31580\n",
      "R&B                   25712\n",
      "Country               23318\n",
      "Latin                 21610\n",
      "Reggae                20139\n",
      "Folk                  12994\n",
      "Soundtrack            12151\n",
      "Dance                 10887\n",
      "Electronica/Dance     10713\n",
      "World                 10634\n",
      "Gospel & Religious     7937\n",
      "House                  6357\n",
      "Trance                 5643\n",
      "New Age                4880\n",
      "Other                  4590\n",
      "Techno                 4533\n",
      "Classical              3837\n",
      "Easy Listening         3832\n",
      "Christmas              3260\n",
      "Hardcore               3171\n",
      "Comedy                 2984\n",
      "Drum & Bass            2224\n",
      "Name: count, dtype: int64\n"
     ]
    }
   ],
   "source": [
    "# Nombre d'échantillons à conserver pour la classe \"Rock\"\n",
    "n_samples_rock = 60000  # Vous pouvez ajuster ce nombre selon vos besoins\n",
    "\n",
    "# Séparer les données de la classe \"Rock\" et des autres classes\n",
    "df_rock = df[df['genres'] == 'Rock']\n",
    "df_other = df[df['genres'] != 'Rock']\n",
    "\n",
    "# Sous-échantillonnage de la classe \"Rock\"\n",
    "df_rock_sampled = df_rock.sample(n=n_samples_rock, random_state=1)\n",
    "\n",
    "# Fusionner les données sous-échantillonnées de \"Rock\" avec les autres données\n",
    "df_balanced = pd.concat([df_rock_sampled, df_other])\n",
    "\n",
    "# Vérifier la nouvelle distribution des classes\n",
    "new_genre_counts = df_balanced['genres'].value_counts()\n",
    "print(\"New genre distribution:\")\n",
    "print(new_genre_counts)"
   ]
  },
  {
   "cell_type": "markdown",
   "metadata": {},
   "source": [
    "**Supprimer \"Soundtrack\" :**\n",
    "Étant donné que \"Soundtrack\" peut être un mélange de différents genres et styles, il peut être difficile pour le modèle de le classer de manière significative. Le supprimer pourrait simplifier le problème de classification.\n",
    "\n",
    "**Fusionner \"Other\" et \"Easy Listening\" :**\n",
    "Si \"Other\" est une catégorie fourre-tout et que \"Easy Listening\" est un genre moins représenté, les fusionner peut aider à équilibrer les classes tout en réduisant le nombre de catégories à prédire."
   ]
  },
  {
   "cell_type": "code",
   "execution_count": 69,
   "metadata": {},
   "outputs": [
    {
     "name": "stdout",
     "output_type": "stream",
     "text": [
      "New genre distribution after adjustments:\n",
      "genres\n",
      "Rock                    60000\n",
      "Pop                     57210\n",
      "Electronic              38235\n",
      "Jazz                    37844\n",
      "Hip-Hop                 31580\n",
      "R&B                     25712\n",
      "Country                 23318\n",
      "Latin                   21610\n",
      "Reggae                  20139\n",
      "Folk                    12994\n",
      "Dance                   10887\n",
      "Electronica/Dance       10713\n",
      "World                   10634\n",
      "Other/Easy Listening     8422\n",
      "Gospel & Religious       7937\n",
      "House                    6357\n",
      "Trance                   5643\n",
      "New Age                  4880\n",
      "Techno                   4533\n",
      "Classical                3837\n",
      "Christmas                3260\n",
      "Hardcore                 3171\n",
      "Comedy                   2984\n",
      "Drum & Bass              2224\n",
      "Name: count, dtype: int64\n"
     ]
    }
   ],
   "source": [
    "# Supprimer les lignes où le genre est \"Soundtrack\"\n",
    "df_balanced = df_balanced[df_balanced['genres'] != 'Soundtrack']\n",
    "\n",
    "# Fusionner les genres \"Other\" et \"Easy Listening\" en une seule catégorie \"Other/Easy Listening\"\n",
    "df_balanced['genres'] = df_balanced['genres'].apply(lambda x: 'Other/Easy Listening' if x in ['Other', 'Easy Listening'] else x)\n",
    "\n",
    "# Vérifier la nouvelle distribution des genres\n",
    "new_genre_counts = df_balanced['genres'].value_counts()\n",
    "print(\"New genre distribution after adjustments:\")\n",
    "print(new_genre_counts)\n"
   ]
  },
  {
   "cell_type": "markdown",
   "metadata": {},
   "source": [
    "___"
   ]
  },
  {
   "cell_type": "markdown",
   "metadata": {},
   "source": [
    "Mainteanant que notre CSV à l'air relativmenet exploitable, nous allons le sauvegarder et xréer quelques échantillons audio"
   ]
  },
  {
   "cell_type": "code",
   "execution_count": 73,
   "metadata": {},
   "outputs": [],
   "source": [
    "# Enregistrer le DataFrame dans un nouveau fichier CSV\n",
    "df_balanced.to_csv('balanced_genre_dataset.csv', index=False)"
   ]
  },
  {
   "cell_type": "code",
   "execution_count": 74,
   "metadata": {},
   "outputs": [],
   "source": [
    "df = pd.read_csv('./Data/balanced_genre_dataset.csv')"
   ]
  }
 ],
 "metadata": {
  "kernelspec": {
   "display_name": "venv",
   "language": "python",
   "name": "python3"
  },
  "language_info": {
   "codemirror_mode": {
    "name": "ipython",
    "version": 3
   },
   "file_extension": ".py",
   "mimetype": "text/x-python",
   "name": "python",
   "nbconvert_exporter": "python",
   "pygments_lexer": "ipython3",
   "version": "3.9.12"
  },
  "orig_nbformat": 4
 },
 "nbformat": 4,
 "nbformat_minor": 2
}
